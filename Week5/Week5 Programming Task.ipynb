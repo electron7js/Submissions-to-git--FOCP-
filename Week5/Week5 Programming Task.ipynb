{
 "cells": [
  {
   "cell_type": "markdown",
   "id": "aa5244cf",
   "metadata": {},
   "source": [
    "1. Using command-line arguments involves the sys module. Review the docs for this\n",
    "module and using the information in there write a short program that when run\n",
    "from the command-line reports what operating system platform is being used."
   ]
  },
  {
   "cell_type": "code",
   "execution_count": 1,
   "id": "9ef595b5",
   "metadata": {
    "scrolled": true
   },
   "outputs": [
    {
     "data": {
      "text/plain": [
       "'win32'"
      ]
     },
     "execution_count": 1,
     "metadata": {},
     "output_type": "execute_result"
    }
   ],
   "source": [
    "import sys\n",
    "sys.platform"
   ]
  },
  {
   "cell_type": "markdown",
   "id": "a13f0fb1",
   "metadata": {},
   "source": [
    "2. Write a program that, when run from the command line, reports how many\n",
    "arguments were provided. (Remember that the program name itself is not an\n",
    "argument)."
   ]
  },
  {
   "cell_type": "code",
   "execution_count": 7,
   "id": "0f72f778",
   "metadata": {},
   "outputs": [
    {
     "data": {
      "text/plain": [
       "['-f',\n",
       " 'C:\\\\Users\\\\bijes\\\\AppData\\\\Roaming\\\\jupyter\\\\runtime\\\\kernel-da635393-34d4-4b23-8b27-d6bc6ee115f2.json']"
      ]
     },
     "execution_count": 7,
     "metadata": {},
     "output_type": "execute_result"
    }
   ],
   "source": [
    "import sys\n",
    "sys.argv[1:]"
   ]
  },
  {
   "cell_type": "markdown",
   "id": "5e6114c2",
   "metadata": {},
   "source": [
    "3. Write a program that takes a bunch of command-line arguments, and then prints\n",
    "out the shortest. If there is more than one of the shortest length, any will do.\n",
    "Hint: Don't overthink this. A good way to find the shortest is just to sort them."
   ]
  },
  {
   "cell_type": "code",
   "execution_count": 13,
   "id": "f657808d",
   "metadata": {},
   "outputs": [
    {
     "name": "stdout",
     "output_type": "stream",
     "text": [
      "-f\n"
     ]
    }
   ],
   "source": [
    "import sys\n",
    "a=sys.argv\n",
    "a.sort(key=len)\n",
    "print(\"shortest commandline argument: \" ,a[0])"
   ]
  },
  {
   "cell_type": "markdown",
   "id": "fabd53e3",
   "metadata": {},
   "source": [
    "4. Write a program that takes a URL as a command-line argument and reports\n",
    "whether or not there is a working website at that address.\n",
    "Hint: You need to get the HTTP response code.\n",
    "Another Hint: StackOverflow is your friend."
   ]
  },
  {
   "cell_type": "code",
   "execution_count": 14,
   "id": "e23c70a3",
   "metadata": {},
   "outputs": [
    {
     "name": "stdout",
     "output_type": "stream",
     "text": [
      "error\n"
     ]
    }
   ],
   "source": [
    "import sys\n",
    "import requests\n",
    "url=sys.argv[1]\n",
    "try :\n",
    "    response=requests.get(url)\n",
    "    if(response.status_code==200):\n",
    "        print(\"There is a working website at this url\")\n",
    "    else:\n",
    "        print(\"Website is down\")\n",
    "except:\n",
    "    print(\"error, wrong url, or no connection\")\n",
    "#actual commandline file in url.py"
   ]
  },
  {
   "cell_type": "markdown",
   "id": "4fce91a2",
   "metadata": {},
   "source": [
    "5. Last week you wrote a program that processed a collection of temperature readings\n",
    "entered by the user and displayed the maximum, minimum, and mean. Create a\n",
    "version of that program that takes the values from the command-line instead. Be\n",
    "sure to handle the case where no arguments are provided!"
   ]
  },
  {
   "cell_type": "code",
   "execution_count": null,
   "id": "0ccad490",
   "metadata": {},
   "outputs": [],
   "source": [
    "from sys import argv\n",
    "from statistics import mean\n",
    "\n",
    "tempsin=argv[1:]\n",
    "temps=list()\n",
    "if len(tempsin):\n",
    "    for i in tempsin:\n",
    "        temp=float(i)\n",
    "        temps.append(temp)\n",
    "    print(\"max : \",max(temps),\"min :\",min(temps),\"mean : \",round(mean(temps),2))\n",
    "else :\n",
    "    print(\"Please pass in some temperatures.\")\n",
    "    #actual commandline file in temps.py"
   ]
  },
  {
   "cell_type": "markdown",
   "id": "cba3b7e9",
   "metadata": {},
   "source": [
    "6. Write a program that takes the name of a file as a command-line argument, and\n",
    "creates a backup copy of that file. The backup should contain an exact copy of the\n",
    "contents of the original and should, obviously, have a different name.\n",
    "Hint: By now, you should be getting the idea that there is a built-in way to do the\n",
    "heavy lifting here! Take a look at the \"Brief Tour of the Standard Library\" in the docs.\n"
   ]
  },
  {
   "cell_type": "code",
   "execution_count": 1,
   "id": "4cbaa047",
   "metadata": {},
   "outputs": [],
   "source": [
    "from shutil import copyfile\n",
    "from sys import argv\n",
    "if len(argv)>1:\n",
    "    for i in argv[1:]:\n",
    "        copyfile(i,\"\".join(i.split(\".\")[0:-1])+\" Copy .\"+str(i.split(\".\")[-1]))\n",
    "else:\n",
    "    print(\"No files given\")\n",
    "#actual commandline fine in copy.py"
   ]
  }
 ],
 "metadata": {
  "kernelspec": {
   "display_name": "Python 3 (ipykernel)",
   "language": "python",
   "name": "python3"
  },
  "language_info": {
   "codemirror_mode": {
    "name": "ipython",
    "version": 3
   },
   "file_extension": ".py",
   "mimetype": "text/x-python",
   "name": "python",
   "nbconvert_exporter": "python",
   "pygments_lexer": "ipython3",
   "version": "3.9.12"
  }
 },
 "nbformat": 4,
 "nbformat_minor": 5
}
