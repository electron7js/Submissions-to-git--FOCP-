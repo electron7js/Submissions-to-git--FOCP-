{
 "cells": [
  {
   "cell_type": "markdown",
   "id": "14dd74ed",
   "metadata": {},
   "source": [
    "1. Last week you wrote a program that printed out a cheery greeting including your\n",
    "name. Take a copy of it, and modify it so that the user enters their name at the\n",
    "keyboard, and then receives a greeting. For example:\n",
    "Hello, what is your name? Mr Apricot\n",
    "Hello, Mr Apricot. Good to meet you!"
   ]
  },
  {
   "cell_type": "code",
   "execution_count": 1,
   "id": "beca70f8",
   "metadata": {},
   "outputs": [
    {
     "name": "stdout",
     "output_type": "stream",
     "text": [
      "Hello, what is your name? : Mr. Apricot\n",
      "Hello, Mr. Apricot. Good to meet you!\n"
     ]
    }
   ],
   "source": [
    "name=input(\"Hello, what is your name? : \")\n",
    "print(\"Hello,\",name+\".\",\"Good to meet you!\")"
   ]
  },
  {
   "cell_type": "markdown",
   "id": "13e14525",
   "metadata": {},
   "source": [
    "2. Write a program that prompts a user to enter a temperature in Celsius, and then\n",
    "displays the corresponding temperature in Fahrenheit, like so:\n",
    "Enter a temperature in Celsius: 32.5\n",
    " 32.5C is equivalent to 90.5F."
   ]
  },
  {
   "cell_type": "code",
   "execution_count": 2,
   "id": "78d1becb",
   "metadata": {},
   "outputs": [
    {
     "name": "stdout",
     "output_type": "stream",
     "text": [
      "Enter the temperature in Celsius : 32.5\n",
      "32.5C is equivalent to 90.5F\n"
     ]
    }
   ],
   "source": [
    "celsius =float(input (\"Enter the temperature in Celsius : \"))\n",
    "fahrenheit = celsius*9/5+32\n",
    "print(f\"{celsius}C is equivalent to {fahrenheit}F\")\n"
   ]
  },
  {
   "cell_type": "markdown",
   "id": "f6d5e73e",
   "metadata": {},
   "source": [
    "3. The Head of Computing at the University of Poppleton is tasked with dividing a\n",
    "group of students into lab groups. A lab group is usually 24 students, but this is\n",
    "sometimes varied to create groups of similar size. Write a program that prompts for\n",
    "the number of students and group size, and then displays how many groups will be\n",
    "needed and how many will be left over in a smaller group.\n",
    "How many students? 113\n",
    "Required group size? 22\n",
    "There will be 5 groups with 3 students left over.\n",
    "For bonus credit, see if you can fix the grammar in the output. So if there were 101\n",
    "students in groups of 20 the output would be:\n",
    "There will be 5 groups with 1 student left over."
   ]
  },
  {
   "cell_type": "code",
   "execution_count": 3,
   "id": "1c45324b",
   "metadata": {},
   "outputs": [
    {
     "name": "stdout",
     "output_type": "stream",
     "text": [
      "How many students? 101\n",
      "Required group size? 20\n",
      "There will be 5 groups and 1 student left over.\n"
     ]
    }
   ],
   "source": [
    "number_of_students = int(input(\"How many students? \"))\n",
    "students_per_labgroup = int(input(\"Required group size? \"))\n",
    "number_of_fullgroups = number_of_students // students_per_labgroup\n",
    "left_over = number_of_students % students_per_labgroup\n",
    "group_string = \"group\" if number_of_fullgroups==1 else \"groups\"\n",
    "student_string = \"student\" if left_over==1 else \"students\"\n",
    "print(f\"There will be {number_of_fullgroups} {group_string} and {left_over} {student_string} left over.\")"
   ]
  },
  {
   "cell_type": "markdown",
   "id": "97548468",
   "metadata": {},
   "source": [
    "4. A kindly teacher wishes to distribute a tub of sweets between her pupils. She will\n",
    "first count the sweets and then divide them according to how many pupils attend\n",
    "that day. Write a program that will tell the teacher how many sweets to give to each\n",
    "pupil, and how many she will have left over."
   ]
  },
  {
   "cell_type": "code",
   "execution_count": 4,
   "id": "661175bc",
   "metadata": {},
   "outputs": [
    {
     "name": "stdout",
     "output_type": "stream",
     "text": [
      "How many sweets? 53\n",
      "How may pupils? 10\n",
      "You can give 5 sweets to each pupil and you will have 3 left over.\n"
     ]
    }
   ],
   "source": [
    "number_of_sweets = int(input(\"How many sweets? \"))\n",
    "number_of_pupils = int(input(\"How may pupils? \"))\n",
    "sweets_each = number_of_sweets // number_of_pupils\n",
    "left_over = number_of_sweets % number_of_pupils\n",
    "print(f\"You can give {sweets_each} sweets to each pupil and you will have {left_over} left over.\")"
   ]
  }
 ],
 "metadata": {
  "kernelspec": {
   "display_name": "Python 3 (ipykernel)",
   "language": "python",
   "name": "python3"
  },
  "language_info": {
   "codemirror_mode": {
    "name": "ipython",
    "version": 3
   },
   "file_extension": ".py",
   "mimetype": "text/x-python",
   "name": "python",
   "nbconvert_exporter": "python",
   "pygments_lexer": "ipython3",
   "version": "3.9.12"
  }
 },
 "nbformat": 4,
 "nbformat_minor": 5
}
