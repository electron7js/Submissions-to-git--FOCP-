{
 "cells": [
  {
   "cell_type": "code",
   "execution_count": 11,
   "id": "a8f2990f",
   "metadata": {},
   "outputs": [
    {
     "data": {
      "text/plain": [
       "True"
      ]
     },
     "execution_count": 11,
     "metadata": {},
     "output_type": "execute_result"
    }
   ],
   "source": [
    "10 < 100"
   ]
  },
  {
   "cell_type": "code",
   "execution_count": 12,
   "id": "07148d37",
   "metadata": {},
   "outputs": [
    {
     "data": {
      "text/plain": [
       "False"
      ]
     },
     "execution_count": 12,
     "metadata": {},
     "output_type": "execute_result"
    }
   ],
   "source": [
    "100 != 100"
   ]
  },
  {
   "cell_type": "code",
   "execution_count": 13,
   "id": "959c6246",
   "metadata": {},
   "outputs": [
    {
     "data": {
      "text/plain": [
       "True"
      ]
     },
     "execution_count": 13,
     "metadata": {},
     "output_type": "execute_result"
    }
   ],
   "source": [
    "50 >= 50"
   ]
  },
  {
   "cell_type": "code",
   "execution_count": 14,
   "id": "db17020e",
   "metadata": {},
   "outputs": [],
   "source": [
    "age=20"
   ]
  },
  {
   "cell_type": "code",
   "execution_count": 15,
   "id": "deb80bd7",
   "metadata": {},
   "outputs": [
    {
     "data": {
      "text/plain": [
       "False"
      ]
     },
     "execution_count": 15,
     "metadata": {},
     "output_type": "execute_result"
    }
   ],
   "source": [
    "age<18"
   ]
  },
  {
   "cell_type": "code",
   "execution_count": 16,
   "id": "ce3a31f9",
   "metadata": {},
   "outputs": [
    {
     "data": {
      "text/plain": [
       "True"
      ]
     },
     "execution_count": 16,
     "metadata": {},
     "output_type": "execute_result"
    }
   ],
   "source": [
    "age<21"
   ]
  },
  {
   "cell_type": "code",
   "execution_count": 17,
   "id": "d3f4304e",
   "metadata": {},
   "outputs": [
    {
     "data": {
      "text/plain": [
       "True"
      ]
     },
     "execution_count": 17,
     "metadata": {},
     "output_type": "execute_result"
    }
   ],
   "source": [
    "age<31"
   ]
  },
  {
   "cell_type": "code",
   "execution_count": 18,
   "id": "e7c519ca",
   "metadata": {},
   "outputs": [
    {
     "data": {
      "text/plain": [
       "True"
      ]
     },
     "execution_count": 18,
     "metadata": {},
     "output_type": "execute_result"
    }
   ],
   "source": [
    "\"a\" < \"b\""
   ]
  },
  {
   "cell_type": "code",
   "execution_count": 19,
   "id": "d992ce0b",
   "metadata": {},
   "outputs": [
    {
     "data": {
      "text/plain": [
       "False"
      ]
     },
     "execution_count": 19,
     "metadata": {},
     "output_type": "execute_result"
    }
   ],
   "source": [
    "\"b\" < \"a\""
   ]
  },
  {
   "cell_type": "code",
   "execution_count": 20,
   "id": "252e7ef4",
   "metadata": {},
   "outputs": [
    {
     "data": {
      "text/plain": [
       "True"
      ]
     },
     "execution_count": 20,
     "metadata": {},
     "output_type": "execute_result"
    }
   ],
   "source": [
    "\"John\" < \"Terry\""
   ]
  },
  {
   "cell_type": "code",
   "execution_count": 21,
   "id": "0ef27002",
   "metadata": {},
   "outputs": [
    {
     "data": {
      "text/plain": [
       "False"
      ]
     },
     "execution_count": 21,
     "metadata": {},
     "output_type": "execute_result"
    }
   ],
   "source": [
    "\"john\" < \"Terry\"#False because the j is small, and all capitals are less than small letters"
   ]
  },
  {
   "cell_type": "code",
   "execution_count": 23,
   "id": "78f7f5a6",
   "metadata": {},
   "outputs": [
    {
     "data": {
      "text/plain": [
       "False"
      ]
     },
     "execution_count": 23,
     "metadata": {},
     "output_type": "execute_result"
    }
   ],
   "source": [
    "[1,2,3] < [1,2,3]"
   ]
  },
  {
   "cell_type": "code",
   "execution_count": 24,
   "id": "fe2f50ed",
   "metadata": {},
   "outputs": [
    {
     "data": {
      "text/plain": [
       "True"
      ]
     },
     "execution_count": 24,
     "metadata": {},
     "output_type": "execute_result"
    }
   ],
   "source": [
    "[1,2,2] < [1,2,3]"
   ]
  },
  {
   "cell_type": "code",
   "execution_count": 25,
   "id": "5e8d6008",
   "metadata": {},
   "outputs": [
    {
     "data": {
      "text/plain": [
       "True"
      ]
     },
     "execution_count": 25,
     "metadata": {},
     "output_type": "execute_result"
    }
   ],
   "source": [
    "5 < 10.2"
   ]
  },
  {
   "cell_type": "code",
   "execution_count": 26,
   "id": "6f23d660",
   "metadata": {},
   "outputs": [
    {
     "ename": "TypeError",
     "evalue": "'<' not supported between instances of 'int' and 'str'",
     "output_type": "error",
     "traceback": [
      "\u001b[1;31m---------------------------------------------------------------------------\u001b[0m",
      "\u001b[1;31mTypeError\u001b[0m                                 Traceback (most recent call last)",
      "Input \u001b[1;32mIn [26]\u001b[0m, in \u001b[0;36m<cell line: 1>\u001b[1;34m()\u001b[0m\n\u001b[1;32m----> 1\u001b[0m \u001b[38;5;241;43m5\u001b[39;49m\u001b[43m \u001b[49m\u001b[38;5;241;43m<\u001b[39;49m\u001b[43m \u001b[49m\u001b[38;5;124;43m\"\u001b[39;49m\u001b[38;5;124;43mMonty\u001b[39;49m\u001b[38;5;124;43m\"\u001b[39;49m\n",
      "\u001b[1;31mTypeError\u001b[0m: '<' not supported between instances of 'int' and 'str'"
     ]
    }
   ],
   "source": [
    "5 < \"Monty\""
   ]
  },
  {
   "cell_type": "code",
   "execution_count": 27,
   "id": "48b62717",
   "metadata": {},
   "outputs": [
    {
     "ename": "TypeError",
     "evalue": "'<' not supported between instances of 'int' and 'str'",
     "output_type": "error",
     "traceback": [
      "\u001b[1;31m---------------------------------------------------------------------------\u001b[0m",
      "\u001b[1;31mTypeError\u001b[0m                                 Traceback (most recent call last)",
      "Input \u001b[1;32mIn [27]\u001b[0m, in \u001b[0;36m<cell line: 1>\u001b[1;34m()\u001b[0m\n\u001b[1;32m----> 1\u001b[0m \u001b[38;5;241;43m5\u001b[39;49m\u001b[43m \u001b[49m\u001b[38;5;241;43m<\u001b[39;49m\u001b[43m \u001b[49m\u001b[38;5;124;43m\"\u001b[39;49m\u001b[38;5;124;43m5\u001b[39;49m\u001b[38;5;124;43m\"\u001b[39;49m\n",
      "\u001b[1;31mTypeError\u001b[0m: '<' not supported between instances of 'int' and 'str'"
     ]
    }
   ],
   "source": [
    "5 < \"5\""
   ]
  },
  {
   "cell_type": "code",
   "execution_count": 28,
   "id": "003c16c0",
   "metadata": {},
   "outputs": [
    {
     "data": {
      "text/plain": [
       "False"
      ]
     },
     "execution_count": 28,
     "metadata": {},
     "output_type": "execute_result"
    }
   ],
   "source": [
    " 5 == \"5\""
   ]
  },
  {
   "cell_type": "code",
   "execution_count": 29,
   "id": "96ded844",
   "metadata": {},
   "outputs": [
    {
     "data": {
      "text/plain": [
       "False"
      ]
     },
     "execution_count": 29,
     "metadata": {},
     "output_type": "execute_result"
    }
   ],
   "source": [
    "age = 30\n",
    "\n",
    "(age >=18 and age <=65) and (not age==30)\n"
   ]
  },
  {
   "cell_type": "code",
   "execution_count": 30,
   "id": "86f705b2",
   "metadata": {},
   "outputs": [
    {
     "data": {
      "text/plain": [
       "True"
      ]
     },
     "execution_count": 30,
     "metadata": {},
     "output_type": "execute_result"
    }
   ],
   "source": [
    "weight=130\n",
    "height=150\n",
    "100<weight<200"
   ]
  },
  {
   "cell_type": "code",
   "execution_count": 31,
   "id": "b20f32c9",
   "metadata": {},
   "outputs": [
    {
     "data": {
      "text/plain": [
       "True"
      ]
     },
     "execution_count": 31,
     "metadata": {},
     "output_type": "execute_result"
    }
   ],
   "source": [
    "131<height<160"
   ]
  },
  {
   "cell_type": "code",
   "execution_count": 32,
   "id": "fc1ef22c",
   "metadata": {},
   "outputs": [
    {
     "data": {
      "text/plain": [
       "True"
      ]
     },
     "execution_count": 32,
     "metadata": {},
     "output_type": "execute_result"
    }
   ],
   "source": [
    "names = [\"Terry\", \"John\", \"Michael\", \"Eric\", \"Terry\", \"Graham\"]\n",
    "\"Terry\" in names"
   ]
  },
  {
   "cell_type": "code",
   "execution_count": 33,
   "id": "b646a9fe",
   "metadata": {},
   "outputs": [
    {
     "data": {
      "text/plain": [
       "False"
      ]
     },
     "execution_count": 33,
     "metadata": {},
     "output_type": "execute_result"
    }
   ],
   "source": [
    "\"John\" not in names"
   ]
  },
  {
   "cell_type": "code",
   "execution_count": 34,
   "id": "05b41048",
   "metadata": {},
   "outputs": [
    {
     "data": {
      "text/plain": [
       "False"
      ]
     },
     "execution_count": 34,
     "metadata": {},
     "output_type": "execute_result"
    }
   ],
   "source": [
    "message = \"Hello there, my name is John\"\n",
    "\"Cena\" in message\n"
   ]
  },
  {
   "cell_type": "code",
   "execution_count": 35,
   "id": "3028c673",
   "metadata": {},
   "outputs": [
    {
     "data": {
      "text/plain": [
       "True"
      ]
     },
     "execution_count": 35,
     "metadata": {},
     "output_type": "execute_result"
    }
   ],
   "source": [
    "\"Hello\"in message"
   ]
  },
  {
   "cell_type": "code",
   "execution_count": 38,
   "id": "d36c2634",
   "metadata": {},
   "outputs": [
    {
     "name": "stdout",
     "output_type": "stream",
     "text": [
      "How old are you? 20\n",
      "you are still young!\n"
     ]
    }
   ],
   "source": [
    "age=int(input(\"How old are you? \"))\n",
    "if 18<age<30:\n",
    "    print(\"you are still young!\")"
   ]
  },
  {
   "cell_type": "code",
   "execution_count": 39,
   "id": "5be8055b",
   "metadata": {},
   "outputs": [
    {
     "name": "stdout",
     "output_type": "stream",
     "text": [
      "you are not very old - yet\n"
     ]
    }
   ],
   "source": [
    "if age > 100:\n",
    "    print(\"you are very old,\")\n",
    "    print(\"well done!\")\n",
    "elif age > 80:\n",
    "    print(\"you are fairly old\")\n",
    "    print(\"pretty good!\")\n",
    "elif age > 40:\n",
    "    print(\"you are middle aged\")\n",
    "    print(\"never mind\")\n",
    "elif 30<age<40:\n",
    "    print(\"you are nearly middle aged\")\n",
    "    print(\"time is coming\")\n",
    "else:\n",
    "    print(\"you are not very old - yet\")"
   ]
  },
  {
   "cell_type": "code",
   "execution_count": 40,
   "id": "c8e93d5f",
   "metadata": {},
   "outputs": [
    {
     "name": "stdout",
     "output_type": "stream",
     "text": [
      "Enter your name: \n",
      "Name not entered\n"
     ]
    }
   ],
   "source": [
    "name = input(\"Enter your name: \")\n",
    "if name!=\"\":\n",
    "    print(\"Your name is\", name)\n",
    "else:\n",
    "    print(\"Name not entered\")\n"
   ]
  },
  {
   "cell_type": "code",
   "execution_count": 41,
   "id": "7e9ba722",
   "metadata": {},
   "outputs": [
    {
     "name": "stdout",
     "output_type": "stream",
     "text": [
      "you are an adult\n"
     ]
    }
   ],
   "source": [
    "print(\"you are an adult\" if age >=18 else \"you are not an adult, yet!\")"
   ]
  },
  {
   "cell_type": "code",
   "execution_count": 43,
   "id": "cbb9866a",
   "metadata": {},
   "outputs": [
    {
     "name": "stdout",
     "output_type": "stream",
     "text": [
      "Alicent\n",
      "Alistair\n",
      "Grumbold\n",
      "Husker\n"
     ]
    }
   ],
   "source": [
    "names=[\"Alicent\",\"Alistair\",\"Grumbold\",\"Husker\"]\n",
    "for n in names:\n",
    "    print(n)\n"
   ]
  },
  {
   "cell_type": "code",
   "execution_count": 48,
   "id": "dff4b94b",
   "metadata": {},
   "outputs": [
    {
     "name": "stdout",
     "output_type": "stream",
     "text": [
      "2 to the power of 2 is 4\n",
      "4 to the power of 4 is 256\n",
      "6 to the power of 6 is 46656\n",
      "8 to the power of 8 is 16777216\n",
      "10 to the power of 10 is 10000000000\n"
     ]
    }
   ],
   "source": [
    "for n in range(2,11,2):\n",
    "    print(n, \"to the power of\",n,\"is\", n ** n)"
   ]
  },
  {
   "cell_type": "code",
   "execution_count": 49,
   "id": "fcce5b58",
   "metadata": {},
   "outputs": [
    {
     "name": "stdout",
     "output_type": "stream",
     "text": [
      "Current total: 10\n",
      "Current total: 30\n",
      "Current total: 60\n",
      "Current total: 150\n",
      "Current total: 350\n",
      "Current total: 380\n",
      "Current total: 402\n",
      "Current total: 413\n"
     ]
    }
   ],
   "source": [
    "numbers = [10, 20 , 30, 90, 200, 30, 22, 11]\n",
    "total=0\n",
    "for i in numbers:\n",
    "    total+=i\n",
    "    print(\"Current total:\",total)"
   ]
  },
  {
   "cell_type": "code",
   "execution_count": 50,
   "id": "83d7a5ba",
   "metadata": {},
   "outputs": [
    {
     "name": "stdout",
     "output_type": "stream",
     "text": [
      "Current total: 10\n",
      "Current total: 30\n",
      "Current total: 60\n",
      "Current total: 150\n"
     ]
    }
   ],
   "source": [
    "numbers = [10, 20 , 30, 90, 200, 30, 22, 11]\n",
    "total=0\n",
    "for i in numbers:\n",
    "    if i>100:\n",
    "        break\n",
    "    total+=i\n",
    "    print(\"Current total:\",total)"
   ]
  },
  {
   "cell_type": "code",
   "execution_count": 52,
   "id": "66f69ea2",
   "metadata": {},
   "outputs": [
    {
     "name": "stdout",
     "output_type": "stream",
     "text": [
      "Current total: 10\n",
      "Current total: 30\n",
      "Current total: 60\n",
      "Current total: 150\n",
      "all numbers were processed\n"
     ]
    }
   ],
   "source": [
    "numbers = [10, 20 , 30, 90]\n",
    "total=0\n",
    "for i in numbers:\n",
    "    if i>100:\n",
    "        break\n",
    "    total+=i\n",
    "    print(\"Current total:\",total)\n",
    "else:\n",
    "    print(\"all numbers were processed\")"
   ]
  },
  {
   "cell_type": "code",
   "execution_count": null,
   "id": "5738a699",
   "metadata": {},
   "outputs": [],
   "source": []
  }
 ],
 "metadata": {
  "kernelspec": {
   "display_name": "Python 3 (ipykernel)",
   "language": "python",
   "name": "python3"
  },
  "language_info": {
   "codemirror_mode": {
    "name": "ipython",
    "version": 3
   },
   "file_extension": ".py",
   "mimetype": "text/x-python",
   "name": "python",
   "nbconvert_exporter": "python",
   "pygments_lexer": "ipython3",
   "version": "3.9.12"
  }
 },
 "nbformat": 4,
 "nbformat_minor": 5
}
