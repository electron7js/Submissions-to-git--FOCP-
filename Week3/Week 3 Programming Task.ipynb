{
 "cells": [
  {
   "cell_type": "markdown",
   "id": "53eafb9f",
   "metadata": {},
   "source": [
    "1. Modify your greeting program so that if the user does not enter a name (i.e. they\n",
    "just press enter), the program responds \"Hello, Stranger!\". Otherwise it should print\n",
    "a greeting with their name as before.\n"
   ]
  },
  {
   "cell_type": "code",
   "execution_count": 5,
   "id": "97764cfc",
   "metadata": {},
   "outputs": [
    {
     "name": "stdout",
     "output_type": "stream",
     "text": [
      "Hello, what is your name? : Bijesh\n",
      "Hello, Bijesh. Good to meet you!\n"
     ]
    }
   ],
   "source": [
    "name=input(\"Hello, what is your name? : \")\n",
    "if not name:\n",
    "    print(\"Hello, Stranger!\")\n",
    "else:\n",
    "    print(\"Hello,\",name+\".\",\"Good to meet you!\")"
   ]
  },
  {
   "cell_type": "code",
   "execution_count": 7,
   "id": "7dd15d81",
   "metadata": {},
   "outputs": [
    {
     "name": "stdout",
     "output_type": "stream",
     "text": [
      "Hello, what is your name? : \n",
      "Hello, Stranger. Good to meet you!\n"
     ]
    }
   ],
   "source": [
    "#alternative, if we can print good to meet you,\n",
    "name=input(\"Hello, what is your name? : \")\n",
    "print(\"Hello,\",name if name else \"Stranger\"+\".\",\"Good to meet you!\")"
   ]
  },
  {
   "cell_type": "markdown",
   "id": "3668bdab",
   "metadata": {},
   "source": [
    "2. Write a program that simulates the way in which a user might choose a password.\n",
    "The program should prompt for a new password, and then prompt again. If the two\n",
    "passwords entered are the same the program should say \"Password Set\" or\n",
    "similar, otherwise it should report an error.\n"
   ]
  },
  {
   "cell_type": "code",
   "execution_count": 9,
   "id": "7efdb516",
   "metadata": {},
   "outputs": [
    {
     "name": "stdout",
     "output_type": "stream",
     "text": [
      "Input a new  :asdf\n",
      "Re input the password :gsdg\n",
      "Error, Passwords don't match\n"
     ]
    }
   ],
   "source": [
    "password=input(\"Input a new  :\")\n",
    "confirm_password=input(\"Re input the password :\")\n",
    "print(\"Password Set\" if password==confirm_password else \"Error, Passwords don't match\")"
   ]
  },
  {
   "cell_type": "markdown",
   "id": "3bee233f",
   "metadata": {},
   "source": [
    "3. Modify your previous program so that the password must be between 8 and 12\n",
    "characters (inclusive) long.\n"
   ]
  },
  {
   "cell_type": "code",
   "execution_count": 14,
   "id": "355e93ba",
   "metadata": {},
   "outputs": [
    {
     "name": "stdout",
     "output_type": "stream",
     "text": [
      "Input a new password :asdf\n",
      "Re input the password :asdg\n",
      "Error, Passwords don't match or is too short\n"
     ]
    }
   ],
   "source": [
    "password=input(\"Input a new password :\")\n",
    "confirm_password=input(\"Re input the password :\")\n",
    "print(\"Password Set\" if (password==confirm_password and 8<=len(password)<=12) else \"Error, Passwords don't match or is too short\")"
   ]
  },
  {
   "cell_type": "markdown",
   "id": "575278ef",
   "metadata": {},
   "source": [
    "4. Modify your program again so that the chosen password cannot be one of a list of\n",
    "common passwords, defined thus:\n",
    "BAD_PASSWORDS = ['password', 'letmein', 'sesame', 'hello', 'justinbieber']"
   ]
  },
  {
   "cell_type": "code",
   "execution_count": 18,
   "id": "995ff229",
   "metadata": {},
   "outputs": [
    {
     "name": "stdout",
     "output_type": "stream",
     "text": [
      "Input a new password :letmein\n",
      "Re input the password :letmein\n",
      "Error, Passwords don't match or is too short\n"
     ]
    }
   ],
   "source": [
    "password=input(\"Input a new password :\")\n",
    "confirm_password=input(\"Re input the password :\")\n",
    "BAD_PASSWORDS = ['password', 'letmein', 'sesame', 'hello', 'justinbieber']\n",
    "print(\"Password Set\" if (password==confirm_password and 8<=len(password)<=12 and password not in BAD_PASSWORDS) else \"Error, Passwords don't match or is too short or is too easy\")"
   ]
  },
  {
   "cell_type": "code",
   "execution_count": 22,
   "id": "54f4eaf0",
   "metadata": {},
   "outputs": [
    {
     "name": "stdout",
     "output_type": "stream",
     "text": [
      "Input a new password :asdg\n",
      "Re input the password :asdf\n",
      "Passwords don't match\n"
     ]
    }
   ],
   "source": [
    "# a better non stupid solution:\n",
    "password=input(\"Input a new password :\")\n",
    "confirm_password=input(\"Re input the password :\")\n",
    "BAD_PASSWORDS = ['password', 'letmein', 'sesame', 'hello', 'justinbieber']\n",
    "passwords_match=password==confirm_password\n",
    "password_length=8<=len(password)<=12\n",
    "password_is_easy=password in BAD_PASSWORDS\n",
    "if (passwords_match and password_length and not password_is_easy):\n",
    "    print(\"Password Set\")\n",
    "elif not passwords_match:\n",
    "    print(\"Passwords don't match\")\n",
    "elif not password_length:\n",
    "    print(\"Passwords should be between 8 and 12 letters long\")\n",
    "elif password_is_easy:\n",
    "    print(\"Password is too easy\")\n"
   ]
  },
  {
   "cell_type": "markdown",
   "id": "8f9e380f",
   "metadata": {},
   "source": [
    "5. Modify your program a final time so that it executes until the user successfully\n",
    "chooses a password. That is, if the password chosen fails any of the checks, the\n",
    "program should return to asking for the password the first time.\n"
   ]
  },
  {
   "cell_type": "code",
   "execution_count": 24,
   "id": "9b8a99d9",
   "metadata": {},
   "outputs": [
    {
     "name": "stdout",
     "output_type": "stream",
     "text": [
      "Input a new password :asfd\n",
      "Re input the password :asdf\n",
      "Passwords don't match\n",
      "Input a new password :asdf\n",
      "Re input the password :asdf\n",
      "Passwords should be between 8 and 12 letters long\n",
      "Input a new password :asdfgh\n",
      "Re input the password :asdfgh\n",
      "Passwords should be between 8 and 12 letters long\n",
      "Input a new password :asdfghj\n",
      "Re input the password :asdfghj\n",
      "Passwords should be between 8 and 12 letters long\n",
      "Input a new password :123456789\n",
      "Re input the password :123456789\n",
      "Password Set\n"
     ]
    }
   ],
   "source": [
    "# a better non stupid solution:\n",
    "BAD_PASSWORDS = ['password', 'letmein', 'sesame', 'hello', 'justinbieber']\n",
    "password_invalid=True\n",
    "while(password_invalid):\n",
    "    password=input(\"Input a new password :\")\n",
    "    confirm_password=input(\"Re input the password :\")\n",
    "    passwords_match=password==confirm_password\n",
    "    password_length=8<=len(password)<=12\n",
    "    password_is_easy=password in BAD_PASSWORDS\n",
    "    if (passwords_match and password_length and not password_is_easy):\n",
    "        password_invalid=False\n",
    "        print(\"Password Set\")\n",
    "    elif not passwords_match:\n",
    "        print(\"Passwords don't match\")\n",
    "    elif not password_length:\n",
    "        print(\"Passwords should be between 8 and 12 letters long\")\n",
    "    elif password_is_easy:\n",
    "        print(\"Password is too easy\")\n"
   ]
  },
  {
   "cell_type": "markdown",
   "id": "2dfcfcfb",
   "metadata": {},
   "source": [
    "6. Write a program that displays the \"Seven Times Table\". That is, the result of\n",
    "multiplying 7 by every number from 0 to 12 inclusive. The output might start:"
   ]
  },
  {
   "cell_type": "code",
   "execution_count": 25,
   "id": "a835ac2c",
   "metadata": {},
   "outputs": [
    {
     "name": "stdout",
     "output_type": "stream",
     "text": [
      "7 x 0 = 0\n",
      "7 x 1 = 7\n",
      "7 x 2 = 14\n",
      "7 x 3 = 21\n",
      "7 x 4 = 28\n",
      "7 x 5 = 35\n",
      "7 x 6 = 42\n",
      "7 x 7 = 49\n",
      "7 x 8 = 56\n",
      "7 x 9 = 63\n",
      "7 x 10 = 70\n",
      "7 x 11 = 77\n",
      "7 x 12 = 84\n"
     ]
    }
   ],
   "source": [
    "for i in range (13):\n",
    "    print(i,\"x\",7,\"=\",7*i)"
   ]
  },
  {
   "cell_type": "markdown",
   "id": "0c940a68",
   "metadata": {},
   "source": [
    "7. Modify your \"Times Table\" program so that the user enters the number of the table\n",
    "they require. This number should be between 0 and 12 inclusive."
   ]
  },
  {
   "cell_type": "code",
   "execution_count": 28,
   "id": "07d1d5c8",
   "metadata": {},
   "outputs": [
    {
     "name": "stdout",
     "output_type": "stream",
     "text": [
      "Enter the number for the times table : 3\n",
      "0 x 3 = 0\n",
      "1 x 3 = 3\n",
      "2 x 3 = 6\n",
      "3 x 3 = 9\n",
      "4 x 3 = 12\n",
      "5 x 3 = 15\n",
      "6 x 3 = 18\n",
      "7 x 3 = 21\n",
      "8 x 3 = 24\n",
      "9 x 3 = 27\n",
      "10 x 3 = 30\n",
      "11 x 3 = 33\n",
      "12 x 3 = 36\n"
     ]
    }
   ],
   "source": [
    "n=int(input(\"Enter the number for the times table : \"))\n",
    "for i in range (13):\n",
    "    print(i,\"x\",n,\"=\",n*i)"
   ]
  },
  {
   "cell_type": "markdown",
   "id": "9bb2a908",
   "metadata": {},
   "source": [
    "8. Modify the \"Times Table\" again so that the user still enters the number of the table,\n",
    "but if this number is negative the table is printed backwards. So entering \"-7\"\n",
    "would produce the Seven Times Table starting at \"12 times\" down to \"0 times\""
   ]
  },
  {
   "cell_type": "code",
   "execution_count": 36,
   "id": "1e9f53ce",
   "metadata": {},
   "outputs": [
    {
     "name": "stdout",
     "output_type": "stream",
     "text": [
      "Enter the number for the times table : -7\n",
      "12 x 7 = 84\n",
      "11 x 7 = 77\n",
      "10 x 7 = 70\n",
      "9 x 7 = 63\n",
      "8 x 7 = 56\n",
      "7 x 7 = 49\n",
      "6 x 7 = 42\n",
      "5 x 7 = 35\n",
      "4 x 7 = 28\n",
      "3 x 7 = 21\n",
      "2 x 7 = 14\n",
      "1 x 7 = 7\n",
      "0 x 7 = 0\n"
     ]
    }
   ],
   "source": [
    "n=int(input(\"Enter the number for the times table : \"))\n",
    "n_pos=n>0\n",
    "n=abs(n)\n",
    "for i in range (0 if n_pos else 12,13 if n_pos else -1,1 if n_pos else -1):\n",
    "    print(i,\"x\",n,\"=\",n*i)"
   ]
  },
  {
   "cell_type": "code",
   "execution_count": null,
   "id": "97bb959a",
   "metadata": {},
   "outputs": [],
   "source": []
  }
 ],
 "metadata": {
  "kernelspec": {
   "display_name": "Python 3 (ipykernel)",
   "language": "python",
   "name": "python3"
  },
  "language_info": {
   "codemirror_mode": {
    "name": "ipython",
    "version": 3
   },
   "file_extension": ".py",
   "mimetype": "text/x-python",
   "name": "python",
   "nbconvert_exporter": "python",
   "pygments_lexer": "ipython3",
   "version": "3.9.12"
  }
 },
 "nbformat": 4,
 "nbformat_minor": 5
}
