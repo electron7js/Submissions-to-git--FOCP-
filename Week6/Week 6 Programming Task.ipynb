{
 "cells": [
  {
   "cell_type": "markdown",
   "id": "1905bea5",
   "metadata": {},
   "source": [
    "1. Write a function that accepts a positive integer as a parameter and then returns a\n",
    "representation of that number in binary (base 2).\n",
    "Hint: This is in many ways a trick question. Think!"
   ]
  },
  {
   "cell_type": "code",
   "execution_count": 2,
   "id": "73a42977",
   "metadata": {},
   "outputs": [
    {
     "name": "stdout",
     "output_type": "stream",
     "text": [
      "0000000000010001\n"
     ]
    },
    {
     "ename": "Exception",
     "evalue": "Can only accept positive integers",
     "output_type": "error",
     "traceback": [
      "\u001b[1;31m---------------------------------------------------------------------------\u001b[0m",
      "\u001b[1;31mException\u001b[0m                                 Traceback (most recent call last)",
      "Cell \u001b[1;32mIn [2], line 7\u001b[0m\n\u001b[0;32m      5\u001b[0m         \u001b[39mraise\u001b[39;00m \u001b[39mException\u001b[39;00m(\u001b[39m\"\u001b[39m\u001b[39mCan only accept positive integers\u001b[39m\u001b[39m\"\u001b[39m)\n\u001b[0;32m      6\u001b[0m \u001b[39mprint\u001b[39m(showbinary(\u001b[39m17\u001b[39m))\n\u001b[1;32m----> 7\u001b[0m showbinary(\u001b[39m-\u001b[39;49m\u001b[39m23\u001b[39;49m)\n\u001b[0;32m      8\u001b[0m showbinary(\u001b[39m0\u001b[39m)\n",
      "Cell \u001b[1;32mIn [2], line 5\u001b[0m, in \u001b[0;36mshowbinary\u001b[1;34m(integer)\u001b[0m\n\u001b[0;32m      3\u001b[0m     \u001b[39mreturn\u001b[39;00m \u001b[39mformat\u001b[39m(integer,\u001b[39m'\u001b[39m\u001b[39m016b\u001b[39m\u001b[39m'\u001b[39m)\n\u001b[0;32m      4\u001b[0m \u001b[39melse\u001b[39;00m:\n\u001b[1;32m----> 5\u001b[0m     \u001b[39mraise\u001b[39;00m \u001b[39mException\u001b[39;00m(\u001b[39m\"\u001b[39m\u001b[39mCan only accept positive integers\u001b[39m\u001b[39m\"\u001b[39m)\n",
      "\u001b[1;31mException\u001b[0m: Can only accept positive integers"
     ]
    }
   ],
   "source": [
    "def showbinary(integer):\n",
    "    if integer>0:\n",
    "        return format(integer,'016b')\n",
    "    else:\n",
    "        raise Exception(\"Can only accept positive integers\")\n",
    "print(showbinary(17))\n",
    "showbinary(-23)\n",
    "showbinary(0)"
   ]
  },
  {
   "cell_type": "markdown",
   "id": "34da810f",
   "metadata": {},
   "source": [
    "2. Write and test a function that takes an integer as its parameter and returns the\n",
    "factors of that integer. (A factor is an integer which can be multiplied by another to\n",
    "yield the original).\n"
   ]
  },
  {
   "cell_type": "code",
   "execution_count": 21,
   "id": "1164ca4b",
   "metadata": {},
   "outputs": [
    {
     "name": "stdout",
     "output_type": "stream",
     "text": [
      "[1, 2, 3, 4, 6, 8, 12, 24]\n"
     ]
    }
   ],
   "source": [
    "def factorize(integer):\n",
    "    factors=list()\n",
    "    for i in range(1,integer+1):\n",
    "        if integer%i==0:\n",
    "            factors.append(i)\n",
    "    return factors\n",
    "\n",
    "print(factorize(24))        "
   ]
  },
  {
   "cell_type": "markdown",
   "id": "ffa1e8d6",
   "metadata": {},
   "source": [
    "3. Write and test a function that determines if a given integer is a prime number. A\n",
    "prime number is an integer greater than 1 that cannot be produced by multiplying\n",
    "two other integers."
   ]
  },
  {
   "cell_type": "code",
   "execution_count": 28,
   "id": "89e4ad55",
   "metadata": {},
   "outputs": [
    {
     "name": "stdout",
     "output_type": "stream",
     "text": [
      "True\n",
      "False\n",
      "True\n",
      "True\n",
      "False\n"
     ]
    }
   ],
   "source": [
    "def prime_check(integer):\n",
    "    count=0\n",
    "    for i in range(1,integer+1):\n",
    "        if integer%i==0:\n",
    "            count+=1\n",
    "    return False if (count>2 or count==1) else True\n",
    "print(prime_check(17))\n",
    "print(prime_check(32))\n",
    "print(prime_check(7))\n",
    "print(prime_check(97))\n",
    "print(prime_check(1))"
   ]
  },
  {
   "cell_type": "markdown",
   "id": "67f66d10",
   "metadata": {},
   "source": [
    "4. Computers are commonly used in encryption. A very simple form of encryption\n",
    "(more accurately \"obfuscation\") would be to remove the spaces from a message\n",
    "and reverse the resulting string. Write, and test, a function that takes a string\n",
    "containing a message and \"encrypts\" it in this way.\n"
   ]
  },
  {
   "cell_type": "code",
   "execution_count": 32,
   "id": "37bdf829",
   "metadata": {},
   "outputs": [
    {
     "name": "stdout",
     "output_type": "stream",
     "text": [
      "eseehCekilI\n"
     ]
    }
   ],
   "source": [
    "def encryption1(string):\n",
    "    string=string.split(\" \")\n",
    "    string=\"\".join(string)\n",
    "    string=string[::-1]\n",
    "    return string\n",
    "print(encryption1(\"I like Cheese\"))"
   ]
  },
  {
   "cell_type": "markdown",
   "id": "bb2d3909",
   "metadata": {},
   "source": [
    "5. Another way to hide a message is to include the letters that make it up within\n",
    "seemingly random text. The letters of the message might be every fifth character,\n",
    "for example. Write and test a function that does such encryption. It should\n",
    "randomly generate an interval (between 2 and 20), space the message out\n",
    "accordingly, and should fill the gaps with random letters. The function should\n",
    "return the encrypted message and the interval used.\n",
    "For example, if the message is \"send cheese\", the random interval is 2, and for\n",
    "clarity the random letters are not random:\n",
    "send cheese\n",
    "s e n d c h e e s e\n",
    "sxyexynxydxy cxyhxyexyexysxye\n"
   ]
  },
  {
   "cell_type": "code",
   "execution_count": 2,
   "id": "71d65d85",
   "metadata": {},
   "outputs": [
    {
     "name": "stdout",
     "output_type": "stream",
     "text": [
      "Tlmnopqrstuvwxyhlmnopqrstuvwxyilmnopqrstuvwxyslmnopqrstuvwxy lmnopqrstuvwxyilmnopqrstuvwxyslmnopqrstuvwxy lmnopqrstuvwxyalmnopqrstuvwxy lmnopqrstuvwxymlmnopqrstuvwxyelmnopqrstuvwxyslmnopqrstuvwxyslmnopqrstuvwxyalmnopqrstuvwxyglmnopqrstuvwxyelmnopqrstuvwxy\n"
     ]
    },
    {
     "data": {
      "text/plain": [
       "'Tlmnopqrstuvwxyhlmnopqrstuvwxyilmnopqrstuvwxyslmnopqrstuvwxy lmnopqrstuvwxyilmnopqrstuvwxyslmnopqrstuvwxy lmnopqrstuvwxyalmnopqrstuvwxy lmnopqrstuvwxymlmnopqrstuvwxyelmnopqrstuvwxyslmnopqrstuvwxyslmnopqrstuvwxyalmnopqrstuvwxyglmnopqrstuvwxyelmnopqrstuvwxy'"
      ]
     },
     "execution_count": 2,
     "metadata": {},
     "output_type": "execute_result"
    }
   ],
   "source": [
    "from string import ascii_lowercase\n",
    "from random import randint\n",
    "def encryption2(string):\n",
    "    interval=randint(2,20)\n",
    "    revalphabet=ascii_lowercase[-(interval+1):-1]\n",
    "    string=list(string)\n",
    "    outstring=list()\n",
    "    for i in string:\n",
    "        outstring.append(i)\n",
    "        outstring.append(revalphabet)\n",
    "    outstring=\"\".join(outstring)\n",
    "    \n",
    "    print(outstring)\n",
    "    return outstring\n",
    "encryption2(\"This is a message\")"
   ]
  },
  {
   "cell_type": "markdown",
   "id": "0e070bda",
   "metadata": {},
   "source": [
    "6. Write a program that decrypts messages encoded as above"
   ]
  },
  {
   "cell_type": "code",
   "execution_count": 3,
   "id": "05d71abb",
   "metadata": {},
   "outputs": [
    {
     "name": "stdout",
     "output_type": "stream",
     "text": [
      "sghijklmnopqrstuvwxyeghijklmnopqrstuvwxynghijklmnopqrstuvwxydghijklmnopqrstuvwxy ghijklmnopqrstuvwxycghijklmnopqrstuvwxyhghijklmnopqrstuvwxyeghijklmnopqrstuvwxyeghijklmnopqrstuvwxysghijklmnopqrstuvwxyeghijklmnopqrstuvwxy\n",
      "send cheese\n"
     ]
    },
    {
     "data": {
      "text/plain": [
       "'send cheese'"
      ]
     },
     "execution_count": 3,
     "metadata": {},
     "output_type": "execute_result"
    }
   ],
   "source": [
    "a=encryption2(\"send cheese\")\n",
    "def decrypt2(string):\n",
    "    interval=0\n",
    "    outstring=list()\n",
    "    string=list(string)\n",
    "    for i in string:\n",
    "        if i==\"y\":\n",
    "            break\n",
    "        interval+=1\n",
    "    for i in range(len(string)):\n",
    "        if(i%(interval+1)==0):\n",
    "            outstring.append(string[i])\n",
    "    outstring=\"\".join(outstring)\n",
    "    print(outstring)\n",
    "    return(outstring)\n",
    "decrypt2(a)"
   ]
  },
  {
   "cell_type": "code",
   "execution_count": null,
   "id": "66321ff4",
   "metadata": {},
   "outputs": [],
   "source": []
  }
 ],
 "metadata": {
  "kernelspec": {
   "display_name": "Python 3 (ipykernel)",
   "language": "python",
   "name": "python3"
  },
  "language_info": {
   "codemirror_mode": {
    "name": "ipython",
    "version": 3
   },
   "file_extension": ".py",
   "mimetype": "text/x-python",
   "name": "python",
   "nbconvert_exporter": "python",
   "pygments_lexer": "ipython3",
   "version": "3.9.12"
  },
  "vscode": {
   "interpreter": {
    "hash": "77636ee67fec5bc779b4c288d2f45005fb29f809d399878e06218e622edac65e"
   }
  }
 },
 "nbformat": 4,
 "nbformat_minor": 5
}
