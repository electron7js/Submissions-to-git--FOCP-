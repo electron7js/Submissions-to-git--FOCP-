{
 "cells": [
  {
   "cell_type": "markdown",
   "id": "c194da73",
   "metadata": {},
   "source": [
    "1. Write and test a function that takes a string as a parameter and returns a sorted list\n",
    "of all the unique letters used in the string. So, if the string is cheese, the list\n",
    "returned should be ['c', 'e', 'h', 's']."
   ]
  },
  {
   "cell_type": "code",
   "execution_count": 42,
   "id": "26c7da7b",
   "metadata": {},
   "outputs": [
    {
     "data": {
      "text/plain": [
       "['c', 'e', 'h', 's']"
      ]
     },
     "execution_count": 42,
     "metadata": {},
     "output_type": "execute_result"
    }
   ],
   "source": [
    "def srlist(string):\n",
    "    return sorted(list(set(string)))\n",
    "srlist(\"cheese\")"
   ]
  },
  {
   "cell_type": "markdown",
   "id": "f85d25e0",
   "metadata": {},
   "source": [
    "2. Write and test three functions that each take two words (strings) as parameters and\n",
    "return sorted lists (as defined above) representing respectively:\n",
    "Letters that appear in at least one of the two words.\n",
    "Letters that appear in both words.\n",
    "Letters that appear in either word, but not in both.\n",
    "Hint: These could all be done programmatically, but consider carefully what topic we\n",
    "have been discussing this week! Each function can be exactly one line."
   ]
  },
  {
   "cell_type": "code",
   "execution_count": 2,
   "id": "37309b0b",
   "metadata": {},
   "outputs": [
    {
     "name": "stdout",
     "output_type": "stream",
     "text": [
      "['c', 'd'] ['a', 'b', 'c', 'd', 'e', 'f'] ['a', 'b', 'e', 'f']\n"
     ]
    }
   ],
   "source": [
    "def atleast1(str1,str2):\n",
    "    return sorted(list(set(str1)|set(str2)))\n",
    "def both(str1,str2):\n",
    "    return sorted(list(set(str1)&set(str2)))\n",
    "def either(str1,str2):\n",
    "    return sorted(list(set(str1)^set(str2)))\n",
    "print(both(\"abcd\",\"cdef\"),atleast1(\"abcd\",\"cdef\"),either(\"abcd\",\"cdef\"))"
   ]
  },
  {
   "cell_type": "markdown",
   "id": "3f90f176",
   "metadata": {},
   "source": [
    "3. Write a program that manages a list of countries and their capital cities. It should\n",
    "prompt the user to enter the name of a country. If the program already \"knows\"\n",
    "the name of the capital city, it should display it. Otherwise it should ask the user to\n",
    "enter it. This should carry on until the user terminates the program (how this\n",
    "happens is up to you).\n",
    "Note: A good solution to this task will be able to cope with the country being entered\n",
    "variously as, for example, \"Wales\", \"wales\", \"WALES\" and so on."
   ]
  },
  {
   "cell_type": "code",
   "execution_count": 8,
   "id": "aafc88d2",
   "metadata": {},
   "outputs": [
    {
     "name": "stdout",
     "output_type": "stream",
     "text": [
      "Enter the name of a country or write 'stop' to stop the program : nepal\n",
      "Capital of Nepal  is  Kathmandu\n",
      "Enter the name of a country or write 'stop' to stop the program : india\n",
      "Not found in data, Please enter the Capital of this country : delhii\n",
      "Enter the name of a country or write 'stop' to stop the program : china\n",
      "Not found in data, Please enter the Capital of this country : somewhere in china\n",
      "Enter the name of a country or write 'stop' to stop the program : delhi\n",
      "Not found in data, Please enter the Capital of this country : not a country\n",
      "Enter the name of a country or write 'stop' to stop the program : india\n",
      "Capital of India  is  Delhii\n",
      "Enter the name of a country or write 'stop' to stop the program : nepal\n",
      "Capital of Nepal  is  Kathmandu\n",
      "Enter the name of a country or write 'stop' to stop the program : cardiff\n",
      "Capital of Cardiff  is  Wales\n",
      "Enter the name of a country or write 'stop' to stop the program : stop\n",
      "Not found in data, Please enter the Capital of this country : stop\n"
     ]
    }
   ],
   "source": [
    "data={\"Nepal\":\"Kathmandu\", \"Cardiff\":\"Wales\",\"England\":\"London\"}\n",
    "country=\"\"\n",
    "while country!=\"Stop\":\n",
    "    country=input(\"Enter the name of a country or write 'stop' to stop the program : \").capitalize()\n",
    "    if country==\"Stop\":\n",
    "        break\n",
    "    if country not in data:\n",
    "            data[country]=input(\"Not found in data, Please enter the Capital of this country : \").capitalize()\n",
    "    else:\n",
    "        print(\"Capital of\",country,\" is \",data[country])\n"
   ]
  },
  {
   "cell_type": "markdown",
   "id": "04a3cfc6",
   "metadata": {},
   "source": [
    "4. One approach to analysing some encrypted data where a substitution is suspected\n",
    "is frequency analysis. A count of the different symbols in the message can be used\n",
    "to identify the language used, and sometimes some of the letters. In English, the\n",
    "most common letter is \"e\", and so the symbol representing \"e\" should appear most\n",
    "in the encrypted text.\n",
    "Write a program that processes a string representing a message and reports the six\n",
    "most common letters, along with the number of times they appear. Case should\n",
    "not matter, so \"E\" and \"e\" are considered the same.\n",
    "Hint: There are many ways to do this. It is obviously a dictionary, but we will want\n",
    "zero counts, so some initialisation is needed. Also, sorting dictionaries is tricky, so\n",
    "best to ignore that initially, and then check the usual resources for the runes."
   ]
  },
  {
   "cell_type": "code",
   "execution_count": 41,
   "id": "90c84993",
   "metadata": {},
   "outputs": [
    {
     "name": "stdout",
     "output_type": "stream",
     "text": [
      "The 6 most repeated characters are:\n",
      "Letter Frequency\n",
      "   e       3\n",
      "   b       2\n",
      "   i       2\n",
      "   s       2\n",
      "   t       2\n",
      "   h       1\n"
     ]
    }
   ],
   "source": [
    "inputstring = \"some jibberish text\"\n",
    "a = { chr (x) : 0 for x in range ( ord (\"a\") , ord(\"z\") + 1 ) }\n",
    "a[\" \"] = 0 \n",
    "count = 0\n",
    "for i in inputstring.lower():\n",
    "        a[i] += 1\n",
    "a.pop(\" \")\n",
    "print(\"The 6 most repeated characters are:\")\n",
    "print(\"Letter\",\"Frequency\")\n",
    "for i,j in sorted ( a.items(), key = lambda x: x[1], reverse = True):\n",
    "    if count == 6:\n",
    "        break\n",
    "    print(\"  \" , i , \"     \" , j)\n",
    "    count += 1\n"
   ]
  }
 ],
 "metadata": {
  "kernelspec": {
   "display_name": "Python 3 (ipykernel)",
   "language": "python",
   "name": "python3"
  },
  "language_info": {
   "codemirror_mode": {
    "name": "ipython",
    "version": 3
   },
   "file_extension": ".py",
   "mimetype": "text/x-python",
   "name": "python",
   "nbconvert_exporter": "python",
   "pygments_lexer": "ipython3",
   "version": "3.9.12"
  }
 },
 "nbformat": 4,
 "nbformat_minor": 5
}
