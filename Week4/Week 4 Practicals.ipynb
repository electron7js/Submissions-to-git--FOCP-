{
 "cells": [
  {
   "cell_type": "code",
   "execution_count": 1,
   "id": "85ea1030",
   "metadata": {},
   "outputs": [
    {
     "data": {
      "text/plain": [
       "49.0"
      ]
     },
     "execution_count": 1,
     "metadata": {},
     "output_type": "execute_result"
    }
   ],
   "source": [
    "import math\n",
    "math.sqrt(2401)"
   ]
  },
  {
   "cell_type": "code",
   "execution_count": 8,
   "id": "8b25fbf6",
   "metadata": {},
   "outputs": [
    {
     "name": "stdout",
     "output_type": "stream",
     "text": [
      "10.0\n"
     ]
    }
   ],
   "source": [
    "from math import log2\n",
    "print(log2(1024))"
   ]
  },
  {
   "cell_type": "code",
   "execution_count": 10,
   "id": "bcf66077",
   "metadata": {},
   "outputs": [
    {
     "name": "stdout",
     "output_type": "stream",
     "text": [
      "1\n",
      "1\n",
      "once\n",
      "once\n",
      "one more time\n",
      "one more time\n"
     ]
    }
   ],
   "source": [
    "def displayTwice(msg):\n",
    "    print(msg)\n",
    "    print(msg)\n",
    "\n",
    "dT=displayTwice\n",
    "dT(1)\n",
    "dT(\"once\")\n",
    "dT(\"one more time\")"
   ]
  },
  {
   "cell_type": "code",
   "execution_count": 11,
   "id": "a4ed8acd",
   "metadata": {},
   "outputs": [],
   "source": [
    "def displayTwice(msg) -> None:\n",
    "    \"Prints the passed message twice\"\n",
    "    \n",
    "    print(msg)\n",
    "    print(msg)"
   ]
  },
  {
   "cell_type": "code",
   "execution_count": 13,
   "id": "d23bfa23",
   "metadata": {},
   "outputs": [],
   "source": [
    "def findMax(a,b):\n",
    "    \"\"\"Finds the maximum of two values.\"\"\"\n",
    "    \n",
    "    if ( a > b ):\n",
    "        max = a\n",
    "    else:\n",
    "        max = b\n",
    "    return max\n"
   ]
  },
  {
   "cell_type": "code",
   "execution_count": 16,
   "id": "31e8fe6f",
   "metadata": {},
   "outputs": [
    {
     "name": "stdout",
     "output_type": "stream",
     "text": [
      "34\n",
      "234\n",
      "312354\n",
      "34775\n"
     ]
    }
   ],
   "source": [
    "print(findMax(1,34))\n",
    "print(findMax(234,124))\n",
    "print(findMax(341,312354))\n",
    "print(findMax(2341,34775))"
   ]
  },
  {
   "cell_type": "code",
   "execution_count": 2,
   "id": "ff710361",
   "metadata": {},
   "outputs": [],
   "source": [
    "def mult(a,b=True):\n",
    "    if b:\n",
    "        b=a\n",
    "    return a*b"
   ]
  },
  {
   "cell_type": "code",
   "execution_count": 5,
   "id": "b92922ef",
   "metadata": {},
   "outputs": [
    {
     "name": "stdout",
     "output_type": "stream",
     "text": [
      "16\n"
     ]
    }
   ],
   "source": [
    "print(mult(4,2))"
   ]
  },
  {
   "cell_type": "code",
   "execution_count": 4,
   "id": "66c94357",
   "metadata": {},
   "outputs": [
    {
     "name": "stdout",
     "output_type": "stream",
     "text": [
      "4\n"
     ]
    }
   ],
   "source": [
    "print(mult(2))"
   ]
  },
  {
   "cell_type": "code",
   "execution_count": 8,
   "id": "dcda6a8b",
   "metadata": {},
   "outputs": [
    {
     "name": "stdout",
     "output_type": "stream",
     "text": [
      "x is 3 \n",
      "y is 4 \n",
      "z is 1\n",
      "x is 4 \n",
      "y is 1 \n",
      "z is 3\n"
     ]
    }
   ],
   "source": [
    "def someFunc(x, y, z):\n",
    "    print(\"x is\", x, \"\\ny is\", y, \"\\nz is\", z)\n",
    "someFunc(z=1,y=4,x=3)\n",
    "someFunc(z=3,x=4,y=1)"
   ]
  },
  {
   "cell_type": "code",
   "execution_count": 11,
   "id": "2e5f35cc",
   "metadata": {},
   "outputs": [
    {
     "name": "stdout",
     "output_type": "stream",
     "text": [
      "1+2+3+4\n",
      "every👏body👏clap👏your👏hands👏"
     ]
    }
   ],
   "source": [
    "print(1,2,3,4,sep=\"+\")\n",
    "print(\"every\",\"body\",\"clap\",\"your\",\"hands\",sep=\"👏\",end=\"👏\")"
   ]
  },
  {
   "cell_type": "code",
   "execution_count": 21,
   "id": "63c2c97e",
   "metadata": {},
   "outputs": [
    {
     "name": "stdout",
     "output_type": "stream",
     "text": [
      "5804.125\n",
      "361.6666666666667\n",
      "4.0\n"
     ]
    }
   ],
   "source": [
    "def calcAve(*numbers):\n",
    "    total = 0\n",
    "    for num in numbers:\n",
    "        total += num\n",
    "    return total/len(numbers)\n",
    "print(calcAve(2,334,1234,1234,5,31234,12345,45))\n",
    "print(calcAve(6,345,734))\n",
    "print(calcAve(4))"
   ]
  },
  {
   "cell_type": "code",
   "execution_count": 22,
   "id": "3c364365",
   "metadata": {},
   "outputs": [
    {
     "data": {
      "text/plain": [
       "function"
      ]
     },
     "execution_count": 22,
     "metadata": {},
     "output_type": "execute_result"
    }
   ],
   "source": [
    "hypot = lambda a,b : math.sqrt(a * a + b * b)\n",
    "type(hypot)"
   ]
  },
  {
   "cell_type": "code",
   "execution_count": 26,
   "id": "f70354a3",
   "metadata": {},
   "outputs": [
    {
     "data": {
      "text/plain": [
       "120"
      ]
     },
     "execution_count": 26,
     "metadata": {},
     "output_type": "execute_result"
    }
   ],
   "source": [
    "to_seconds=lambda hours,minutes=0: hours*3600+minutes*60\n",
    "to_seconds(0,2)"
   ]
  },
  {
   "cell_type": "code",
   "execution_count": 27,
   "id": "a9edd041",
   "metadata": {},
   "outputs": [
    {
     "data": {
      "text/plain": [
       "5400"
      ]
     },
     "execution_count": 27,
     "metadata": {},
     "output_type": "execute_result"
    }
   ],
   "source": [
    "to_seconds(1,30)"
   ]
  },
  {
   "cell_type": "code",
   "execution_count": 28,
   "id": "c8c408cb",
   "metadata": {},
   "outputs": [
    {
     "data": {
      "text/plain": [
       "7200"
      ]
     },
     "execution_count": 28,
     "metadata": {},
     "output_type": "execute_result"
    }
   ],
   "source": [
    "to_seconds(2,0)"
   ]
  },
  {
   "cell_type": "code",
   "execution_count": 30,
   "id": "e57deba6",
   "metadata": {},
   "outputs": [
    {
     "data": {
      "text/plain": [
       "3600"
      ]
     },
     "execution_count": 30,
     "metadata": {},
     "output_type": "execute_result"
    }
   ],
   "source": [
    "to_seconds(1)"
   ]
  },
  {
   "cell_type": "code",
   "execution_count": null,
   "id": "a4ee43dc",
   "metadata": {},
   "outputs": [],
   "source": []
  }
 ],
 "metadata": {
  "kernelspec": {
   "display_name": "Python 3 (ipykernel)",
   "language": "python",
   "name": "python3"
  },
  "language_info": {
   "codemirror_mode": {
    "name": "ipython",
    "version": 3
   },
   "file_extension": ".py",
   "mimetype": "text/x-python",
   "name": "python",
   "nbconvert_exporter": "python",
   "pygments_lexer": "ipython3",
   "version": "3.9.12"
  }
 },
 "nbformat": 4,
 "nbformat_minor": 5
}
