{
 "cells": [
  {
   "cell_type": "markdown",
   "id": "6d6a5fc7",
   "metadata": {},
   "source": [
    "1. Functions are often used to validate input. Write a function that accepts a single\n",
    "integer as a parameter and returns True if the integer is in the range 0 to 100\n",
    "(inclusive), or False otherwise. Write a short program to test the function."
   ]
  },
  {
   "cell_type": "code",
   "execution_count": 1,
   "id": "1c4e88c6",
   "metadata": {},
   "outputs": [
    {
     "data": {
      "text/plain": [
       "True"
      ]
     },
     "execution_count": 1,
     "metadata": {},
     "output_type": "execute_result"
    }
   ],
   "source": [
    "def val(a:int) -> bool:\n",
    "    \"\"\"Checks if a number is in the range 0 and 100(inclusive)\"\"\"\n",
    "    \n",
    "    if 0<=a<=100:\n",
    "        return True\n",
    "    else: \n",
    "        return False\n",
    "val(4)"
   ]
  },
  {
   "cell_type": "markdown",
   "id": "f574ff03",
   "metadata": {},
   "source": [
    "2. Write a function that has a single string as its parameter, and returns the number of\n",
    "uppercase letters, and the number of lowercase letters in the string. Test the\n",
    "function with a short program.\n"
   ]
  },
  {
   "cell_type": "code",
   "execution_count": 5,
   "id": "9eee996d",
   "metadata": {},
   "outputs": [
    {
     "name": "stdout",
     "output_type": "stream",
     "text": [
      "(4, 4)\n"
     ]
    }
   ],
   "source": [
    "def count(inp:str) -> int:\n",
    "    \"\"\"Returns the number of uppercase and lowercase letters\"\"\"\n",
    "    \n",
    "    upper=0\n",
    "    lower=0\n",
    "    for i in inp:\n",
    "        if i.isupper():\n",
    "            upper+=1\n",
    "        if i.islower():\n",
    "            lower+=1\n",
    "    return upper,lower\n",
    "\n",
    "print(count(\"asdfASDF\"))"
   ]
  },
  {
   "cell_type": "markdown",
   "id": "90ea31f4",
   "metadata": {},
   "source": [
    "3. Modify your \"greetings\" program so that the first letter of the name entered is\n",
    "always in uppercase with the rest in lowercase. This should happen even if the user\n",
    "entered their name differently. So if the user entered arthur, ARTHUR, or even\n",
    "arTHur the name should be displayed as Arthur."
   ]
  },
  {
   "cell_type": "code",
   "execution_count": 6,
   "id": "a969c950",
   "metadata": {},
   "outputs": [
    {
     "name": "stdout",
     "output_type": "stream",
     "text": [
      "Hello, what is your name? : bIjesh\n",
      "Hello, Bijesh. Good to meet you!\n"
     ]
    }
   ],
   "source": [
    "name=input(\"Hello, what is your name? : \")\n",
    "if not name:\n",
    "    print(\"Hello, Stranger!\")\n",
    "else:\n",
    "    print(\"Hello,\",name.capitalize()+\".\",\"Good to meet you!\")"
   ]
  },
  {
   "cell_type": "markdown",
   "id": "e3af5510",
   "metadata": {},
   "source": [
    "4. When processing data it is often useful to remove the last character from some\n",
    "input (it is often a newline). Write and test a function that takes a string parameter\n",
    "and returns it with the last character removed. (If the string contains one or fewer\n",
    "characters, return it unchanged.)\n"
   ]
  },
  {
   "cell_type": "code",
   "execution_count": 8,
   "id": "f07d7257",
   "metadata": {},
   "outputs": [
    {
     "data": {
      "text/plain": [
       "'a'"
      ]
     },
     "execution_count": 8,
     "metadata": {},
     "output_type": "execute_result"
    }
   ],
   "source": [
    "def reduce(inp:str) -> str:\n",
    "    \"\"\"Returns string with one lesser character, if string is longer than 1 character\"\"\"\n",
    "    if len(inp)>1:\n",
    "        inp=inp[:-1]\n",
    "    return inp\n",
    "reduce(\"a\")"
   ]
  },
  {
   "cell_type": "markdown",
   "id": "1924f97e",
   "metadata": {},
   "source": [
    "5. Write and test a function that converts a temperature measured in degrees\n",
    "centigrade into the equivalent in fahrenheit, and another that does the reverse\n",
    "conversion. Test both functions. (Google will find you the formulae).\n"
   ]
  },
  {
   "cell_type": "code",
   "execution_count": 10,
   "id": "176442ab",
   "metadata": {},
   "outputs": [
    {
     "name": "stdout",
     "output_type": "stream",
     "text": [
      "150.8 Fahrenheit\n",
      "66.0 Celsius\n"
     ]
    }
   ],
   "source": [
    "def celsiustofahrenheit(celsius:float) -> float:\n",
    "    return (celsius*9/5)+32\n",
    "def fahrenheittocelsius(fahrenheit:float) ->float:\n",
    "    return (fahrenheit-32)*5/9\n",
    "\n",
    "print(celsiustofahrenheit(66),\"Fahrenheit\")\n",
    "print(fahrenheittocelsius(150.8),\"Celsius\")"
   ]
  },
  {
   "cell_type": "markdown",
   "id": "f5f81626",
   "metadata": {},
   "source": [
    "6. Write a program that takes a centigrade temperature and displays the equivalent in\n",
    "fahrenheit. The input should be a number followed by a letter C. The output should\n",
    "be in the same format.\n"
   ]
  },
  {
   "cell_type": "code",
   "execution_count": 13,
   "id": "8d6eb09c",
   "metadata": {},
   "outputs": [
    {
     "name": "stdout",
     "output_type": "stream",
     "text": [
      "Enter the temperature in celsius :66C\n",
      "150.8 F\n"
     ]
    }
   ],
   "source": [
    "celsius=input(\"Enter the temperature in celsius :\")\n",
    "celsius=float(reduce(celsius))\n",
    "print(celsiustofahrenheit(celsius),\"F\")"
   ]
  },
  {
   "cell_type": "markdown",
   "id": "e449d503",
   "metadata": {},
   "source": [
    "7. Write a program that reads 6 temperatures (in the same format as before), and\n",
    "displays the maximum, minimum, and mean of the values.\n",
    "Hint: You should know there are built-in functions for max and min. If you hunt, you\n",
    "might also find one for the mean.\n"
   ]
  },
  {
   "cell_type": "code",
   "execution_count": 20,
   "id": "4cdb6241",
   "metadata": {},
   "outputs": [
    {
     "name": "stdout",
     "output_type": "stream",
     "text": [
      "Enter the temperature in celsius :34\n",
      "Enter the temperature in celsius :324134\n",
      "Enter the temperature in celsius :234\n",
      "Enter the temperature in celsius :52\n",
      "Enter the temperature in celsius :5\n",
      "Enter the temperature in celsius :323\n",
      "max :  32413.0 min : 3.0 mean :  5413.5\n"
     ]
    }
   ],
   "source": [
    "from statistics import mean\n",
    "temps=list()\n",
    "for i in range(6):\n",
    "    temp=input(\"Enter the temperature in celsius :\")\n",
    "    temp=float(reduce(temp))\n",
    "    temps.append(temp)\n",
    "print(\"max : \",max(temps),\"min :\",min(temps),\"mean : \",round(mean(temps),2))"
   ]
  },
  {
   "cell_type": "markdown",
   "id": "d2d2d6ae",
   "metadata": {},
   "source": [
    "8. Modify the previous program so that it can process any number of values. The input\n",
    "terminates when the user just pressed \"Enter\" at the prompt rather than entering a\n",
    "value.\n"
   ]
  },
  {
   "cell_type": "code",
   "execution_count": 23,
   "id": "d007e792",
   "metadata": {},
   "outputs": [
    {
     "name": "stdout",
     "output_type": "stream",
     "text": [
      "Enter the temperature in celsius :234\n",
      "Enter the temperature in celsius :234\n",
      "Enter the temperature in celsius :234\n",
      "Enter the temperature in celsius :135\n",
      "Enter the temperature in celsius :35\n",
      "Enter the temperature in celsius :345\n",
      "Enter the temperature in celsius :31\n",
      "Enter the temperature in celsius :34\n",
      "Enter the temperature in celsius :315\n",
      "Enter the temperature in celsius :\n",
      "max :  34.0 min : 3.0 mean :  17.33\n"
     ]
    }
   ],
   "source": [
    "from statistics import mean\n",
    "temps=list()\n",
    "while True:\n",
    "    temp=input(\"Enter the temperature in celsius :\")\n",
    "    if temp==\"\":\n",
    "        break\n",
    "    temp=float(reduce(temp))\n",
    "    temps.append(temp)\n",
    "print(\"max : \",max(temps),\"min :\",min(temps),\"mean : \",round(mean(temps),2))"
   ]
  },
  {
   "cell_type": "code",
   "execution_count": null,
   "id": "7120b828",
   "metadata": {},
   "outputs": [],
   "source": []
  }
 ],
 "metadata": {
  "kernelspec": {
   "display_name": "Python 3 (ipykernel)",
   "language": "python",
   "name": "python3"
  },
  "language_info": {
   "codemirror_mode": {
    "name": "ipython",
    "version": 3
   },
   "file_extension": ".py",
   "mimetype": "text/x-python",
   "name": "python",
   "nbconvert_exporter": "python",
   "pygments_lexer": "ipython3",
   "version": "3.9.12"
  }
 },
 "nbformat": 4,
 "nbformat_minor": 5
}
