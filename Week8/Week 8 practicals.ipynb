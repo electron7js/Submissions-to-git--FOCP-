{
 "cells": [
  {
   "cell_type": "code",
   "execution_count": 1,
   "id": "37d63ee0",
   "metadata": {},
   "outputs": [
    {
     "name": "stdout",
     "output_type": "stream",
     "text": [
      "The area of a rectangle with a width of 104.32 and a height of 15.654 is 1633.0252799999998\n"
     ]
    }
   ],
   "source": [
    "width=104.32\n",
    "height=15.654\n",
    "\n",
    "print(f\"The area of a rectangle with a width of {width} and a height of {height} is {width*height}\")"
   ]
  },
  {
   "cell_type": "code",
   "execution_count": 3,
   "id": "d532979b",
   "metadata": {},
   "outputs": [
    {
     "name": "stdout",
     "output_type": "stream",
     "text": [
      "The area of a rectangle with a width of 104.32 and a height of 15.654 is 1633.025\n"
     ]
    }
   ],
   "source": [
    "print(f\"The area of a rectangle with a width of {width} and a height of {height} is {width*height:.3f}\")"
   ]
  },
  {
   "cell_type": "code",
   "execution_count": 10,
   "id": "b8baabf2",
   "metadata": {},
   "outputs": [
    {
     "name": "stdout",
     "output_type": "stream",
     "text": [
      "1010.000000\n"
     ]
    }
   ],
   "source": [
    "print(\"{:01f}\".format(1010))"
   ]
  },
  {
   "cell_type": "code",
   "execution_count": 35,
   "id": "47bd4ea8",
   "metadata": {},
   "outputs": [
    {
     "name": "stdout",
     "output_type": "stream",
     "text": [
      "$$$$$$$$$$$$$$$$$$As - $$$$$$$$$$$$$$$12.00\n"
     ]
    }
   ],
   "source": [
    "name=\"As\"\n",
    "age=12\n",
    "print(f\"{name:$>20} - {age:$>20.2f}\")"
   ]
  },
  {
   "cell_type": "code",
   "execution_count": 31,
   "id": "4c37c204",
   "metadata": {},
   "outputs": [
    {
     "name": "stdout",
     "output_type": "stream",
     "text": [
      "A circle with radius 1 has an area of 3.14\n"
     ]
    }
   ],
   "source": [
    "import math\n",
    "r=1\n",
    "print(\"A circle with radius {0} has an area of {1:.2f}\".format(r,math.pi * r * r))"
   ]
  },
  {
   "cell_type": "code",
   "execution_count": null,
   "id": "3150fcbb",
   "metadata": {},
   "outputs": [],
   "source": []
  }
 ],
 "metadata": {
  "kernelspec": {
   "display_name": "Python 3 (ipykernel)",
   "language": "python",
   "name": "python3"
  },
  "language_info": {
   "codemirror_mode": {
    "name": "ipython",
    "version": 3
   },
   "file_extension": ".py",
   "mimetype": "text/x-python",
   "name": "python",
   "nbconvert_exporter": "python",
   "pygments_lexer": "ipython3",
   "version": "3.9.12"
  }
 },
 "nbformat": 4,
 "nbformat_minor": 5
}
