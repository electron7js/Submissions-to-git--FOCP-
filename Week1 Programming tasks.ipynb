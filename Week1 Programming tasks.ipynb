{
 "cells": [
  {
   "cell_type": "markdown",
   "metadata": {},
   "source": [
    "\"1.\" Write a program that prints a cheery message (such as \"Hello World\") on the\n",
    "screen. Run it, and note that you have taken the first step to becoming a\n",
    "programmer!"
   ]
  },
  {
   "cell_type": "code",
   "execution_count": 2,
   "metadata": {},
   "outputs": [
    {
     "name": "stdout",
     "output_type": "stream",
     "text": [
      "Hello World\n"
     ]
    }
   ],
   "source": [
    "print(\"Hello World\")"
   ]
  },
  {
   "cell_type": "markdown",
   "metadata": {},
   "source": [
    "\"2.\" Make a copy of the previous program, and modify it so that it displays your name.\n",
    "So if your name is Herbert the message should become:\n",
    "Hello, Herbert!"
   ]
  },
  {
   "cell_type": "code",
   "execution_count": 3,
   "metadata": {},
   "outputs": [
    {
     "name": "stdout",
     "output_type": "stream",
     "text": [
      "Hello Bijesh\n"
     ]
    }
   ],
   "source": [
    "print(\"Hello Bijesh\")"
   ]
  },
  {
   "cell_type": "markdown",
   "metadata": {},
   "source": [
    "\"3.\" Over the summer, temperatures in Yorkshire reached 38.4C. Write a program that\n",
    "converts this value in Celsius to the equivalent temperature in Fahrenheit, and then\n",
    "displays both."
   ]
  },
  {
   "cell_type": "code",
   "execution_count": 4,
   "metadata": {},
   "outputs": [
    {
     "name": "stdout",
     "output_type": "stream",
     "text": [
      "Temperature in Celsius is 38.40 C and in Fahrenheit is  101.12 F\n"
     ]
    }
   ],
   "source": [
    "C=float(input(\"Enter the temperature in Celsius\"))\n",
    "F=(C*180/100)+32\n",
    "print(f\"Temperature in Celsius is {C:.2f} C and in Fahrenheit is  {F:.2f} F\")"
   ]
  },
  {
   "cell_type": "markdown",
   "metadata": {},
   "source": [
    "\"4.\" In a long career for Yorkshire, Geoffrey Boycott played 609 matches, batted 1014\n",
    "times, was not out 162 times, and scored 48426 runs. Write a program to calculate\n",
    "and display Boycott's batting average."
   ]
  },
  {
   "cell_type": "code",
   "execution_count": 5,
   "metadata": {},
   "outputs": [
    {
     "name": "stdout",
     "output_type": "stream",
     "text": [
      "Batting average is 56.84\n"
     ]
    }
   ],
   "source": [
    "times_batted=1014\n",
    "times_not_out=162\n",
    "number_of_innings = times_batted - times_not_out\n",
    "number_of_runs = 48426\n",
    "batting_average = number_of_runs/number_of_innings\n",
    "print(f\"Batting average is {batting_average:.2f}\")"
   ]
  },
  {
   "cell_type": "markdown",
   "metadata": {},
   "source": [
    "\"5.\" The Head of Computing at the University of Poppleton is tasked with dividing a\n",
    "group of students into lab groups. A lab group is 24 students, since this is the\n",
    "number of PCs in a lab. Write a program that calculates how many groups are\n",
    "needed for the following number of students: 113, 175, 12. Display how many full\n",
    "groups there will be, and how many students will be in the smaller \"left over\"\n",
    "group."
   ]
  },
  {
   "cell_type": "code",
   "execution_count": 11,
   "metadata": {},
   "outputs": [
    {
     "name": "stdout",
     "output_type": "stream",
     "text": [
      "For 113 Students, The number of full groups is 4 and number of students left over is 17\n",
      "For 175 Students, The number of full groups is 7 and number of students left over is 7\n",
      "For 12 Students, The number of full groups is 0 and number of students left over is 12\n"
     ]
    }
   ],
   "source": [
    "number_of_students=[113,175,12]\n",
    "students_per_labgroup=24\n",
    "for i in number_of_students :\n",
    "    number_of_fullgroups=i//students_per_labgroup\n",
    "    left_over=i%students_per_labgroup\n",
    "    print(f\"For {i} Students, The number of full groups is {number_of_fullgroups} and number of students left over is {left_over}\")"
   ]
  },
  {
   "cell_type": "code",
   "execution_count": null,
   "metadata": {},
   "outputs": [],
   "source": []
  }
 ],
 "metadata": {
  "kernelspec": {
   "display_name": "Python 3.9.12 ('base')",
   "language": "python",
   "name": "python3"
  },
  "language_info": {
   "codemirror_mode": {
    "name": "ipython",
    "version": 3
   },
   "file_extension": ".py",
   "mimetype": "text/x-python",
   "name": "python",
   "nbconvert_exporter": "python",
   "pygments_lexer": "ipython3",
   "version": "3.9.12"
  },
  "orig_nbformat": 4,
  "vscode": {
   "interpreter": {
    "hash": "04346ce146899433aab9a96f139908e47e1db903fdb62ea938f566038ff188a8"
   }
  }
 },
 "nbformat": 4,
 "nbformat_minor": 2
}
