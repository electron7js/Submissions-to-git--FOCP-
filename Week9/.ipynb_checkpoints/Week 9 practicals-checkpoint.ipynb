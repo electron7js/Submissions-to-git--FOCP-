{
 "cells": [
  {
   "cell_type": "code",
   "execution_count": 2,
   "id": "01527f1b",
   "metadata": {},
   "outputs": [
    {
     "name": "stdout",
     "output_type": "stream",
     "text": [
      "Enter a number: 23\n",
      "That number squared is 529\n"
     ]
    }
   ],
   "source": [
    "try:\n",
    "    value = input(\"Enter a number: \")\n",
    "    num = int(value)\n",
    "    print(\"That number squared is\", num * num)\n",
    "except ValueError:\n",
    "    print(\"The value entered is not a number\")\n"
   ]
  },
  {
   "cell_type": "code",
   "execution_count": 9,
   "id": "e0e600cb",
   "metadata": {},
   "outputs": [
    {
     "name": "stdout",
     "output_type": "stream",
     "text": [
      "Enter a number: 19\n"
     ]
    },
    {
     "ename": "IndexError",
     "evalue": "list index out of range",
     "output_type": "error",
     "traceback": [
      "\u001b[1;31m---------------------------------------------------------------------------\u001b[0m",
      "\u001b[1;31mIndexError\u001b[0m                                Traceback (most recent call last)",
      "Input \u001b[1;32mIn [9]\u001b[0m, in \u001b[0;36m<cell line: 3>\u001b[1;34m()\u001b[0m\n\u001b[0;32m      2\u001b[0m num\u001b[38;5;241m=\u001b[39m\u001b[38;5;28minput\u001b[39m(\u001b[38;5;124m\"\u001b[39m\u001b[38;5;124mEnter a number: \u001b[39m\u001b[38;5;124m\"\u001b[39m)\n\u001b[0;32m      3\u001b[0m \u001b[38;5;28;01mtry\u001b[39;00m:\n\u001b[1;32m----> 4\u001b[0m     name \u001b[38;5;241m=\u001b[39m \u001b[43mnames\u001b[49m\u001b[43m[\u001b[49m\u001b[38;5;28;43mint\u001b[39;49m\u001b[43m(\u001b[49m\u001b[43mnum\u001b[49m\u001b[43m)\u001b[49m\u001b[43m]\u001b[49m\n\u001b[0;32m      5\u001b[0m \u001b[38;5;28;01mexcept\u001b[39;00m \u001b[38;5;167;01mValueError\u001b[39;00m:\n\u001b[0;32m      6\u001b[0m     \u001b[38;5;28mprint\u001b[39m(\u001b[38;5;124m\"\u001b[39m\u001b[38;5;124mEnter a number\u001b[39m\u001b[38;5;124m\"\u001b[39m)\n",
      "\u001b[1;31mIndexError\u001b[0m: list index out of range"
     ]
    }
   ],
   "source": [
    "names = [\"Terry\", \"John\", \"Michael\", \"Eric\", \"Terry\", \"Graham\"]\n",
    "num=input(\"Enter a number: \")\n",
    "try:\n",
    "    name = names[int(num)]\n",
    "except ValueError:\n",
    "    print(\"The value entered is not a number\")\n",
    "except IndexError:\n",
    "    print(\"Only Enter a number below 7\")\n",
    "else:\n",
    "    print(name)"
   ]
  },
  {
   "cell_type": "code",
   "execution_count": 14,
   "id": "eb8e9612",
   "metadata": {},
   "outputs": [],
   "source": [
    "def get_name():\n",
    "    inp=input(\"Enter your name \")\n",
    "    if len(inp)<4:\n",
    "        raise ValueError(\"The name must be atleast 4 characters long\")\n",
    "    return inp"
   ]
  },
  {
   "cell_type": "code",
   "execution_count": 15,
   "id": "c6373717",
   "metadata": {},
   "outputs": [
    {
     "name": "stdout",
     "output_type": "stream",
     "text": [
      "Enter your name 3\n"
     ]
    },
    {
     "ename": "ValueError",
     "evalue": "The name must be atleast 4 characters long",
     "output_type": "error",
     "traceback": [
      "\u001b[1;31m---------------------------------------------------------------------------\u001b[0m",
      "\u001b[1;31mValueError\u001b[0m                                Traceback (most recent call last)",
      "Input \u001b[1;32mIn [15]\u001b[0m, in \u001b[0;36m<cell line: 1>\u001b[1;34m()\u001b[0m\n\u001b[1;32m----> 1\u001b[0m \u001b[43mget_name\u001b[49m\u001b[43m(\u001b[49m\u001b[43m)\u001b[49m\n",
      "Input \u001b[1;32mIn [14]\u001b[0m, in \u001b[0;36mget_name\u001b[1;34m()\u001b[0m\n\u001b[0;32m      2\u001b[0m inp\u001b[38;5;241m=\u001b[39m\u001b[38;5;28minput\u001b[39m(\u001b[38;5;124m\"\u001b[39m\u001b[38;5;124mEnter your name \u001b[39m\u001b[38;5;124m\"\u001b[39m)\n\u001b[0;32m      3\u001b[0m \u001b[38;5;28;01mif\u001b[39;00m \u001b[38;5;28mlen\u001b[39m(inp)\u001b[38;5;241m<\u001b[39m\u001b[38;5;241m4\u001b[39m:\n\u001b[1;32m----> 4\u001b[0m     \u001b[38;5;28;01mraise\u001b[39;00m \u001b[38;5;167;01mValueError\u001b[39;00m(\u001b[38;5;124m\"\u001b[39m\u001b[38;5;124mThe name must be atleast 4 characters long\u001b[39m\u001b[38;5;124m\"\u001b[39m)\n\u001b[0;32m      5\u001b[0m \u001b[38;5;28;01mreturn\u001b[39;00m inp\n",
      "\u001b[1;31mValueError\u001b[0m: The name must be atleast 4 characters long"
     ]
    }
   ],
   "source": [
    "get_name()"
   ]
  },
  {
   "cell_type": "code",
   "execution_count": 25,
   "id": "76a13c56",
   "metadata": {},
   "outputs": [
    {
     "name": "stdout",
     "output_type": "stream",
     "text": [
      "Enter a number between 1 and 643\n",
      "The value entered is too large for hex vals\n"
     ]
    }
   ],
   "source": [
    "try:\n",
    "    pos = int(input(\"Enter a number between 1 and 6\"))\n",
    "    hex_vals = [ \"A\", \"B\", \"C\", \"D\", \"E\", \"F\" ]\n",
    "    letter = hex_vals[pos-1]\n",
    "except ValueError:\n",
    "    print(\"The value entered is not a number\")\n",
    "except IndexError:\n",
    "    print(\"The value entered is too large for hex vals\")"
   ]
  },
  {
   "cell_type": "code",
   "execution_count": 28,
   "id": "372929d7",
   "metadata": {},
   "outputs": [
    {
     "ename": "ValueError",
     "evalue": "The given value is not a number",
     "output_type": "error",
     "traceback": [
      "\u001b[1;31m---------------------------------------------------------------------------\u001b[0m",
      "\u001b[1;31mValueError\u001b[0m                                Traceback (most recent call last)",
      "Input \u001b[1;32mIn [28]\u001b[0m, in \u001b[0;36m<cell line: 1>\u001b[1;34m()\u001b[0m\n\u001b[1;32m----> 1\u001b[0m \u001b[38;5;28;01mraise\u001b[39;00m \u001b[38;5;167;01mValueError\u001b[39;00m(\u001b[38;5;124m\"\u001b[39m\u001b[38;5;124mThe given value is not a number\u001b[39m\u001b[38;5;124m\"\u001b[39m)\n",
      "\u001b[1;31mValueError\u001b[0m: The given value is not a number"
     ]
    }
   ],
   "source": [
    "raise ValueError(\"The given value is not a number\")"
   ]
  },
  {
   "cell_type": "code",
   "execution_count": 29,
   "id": "a0dd123e",
   "metadata": {},
   "outputs": [
    {
     "name": "stdout",
     "output_type": "stream",
     "text": [
      "Enter a letter to cause an exceptione\n",
      "Error invalid literal for int() with base 10: 'e'\n"
     ]
    }
   ],
   "source": [
    "try:\n",
    "    int(input(\"Enter a letter to cause an exception\"))\n",
    "except Exception as e:\n",
    "    print(\"Error\",e)"
   ]
  },
  {
   "cell_type": "code",
   "execution_count": null,
   "id": "b85066b5",
   "metadata": {},
   "outputs": [],
   "source": []
  }
 ],
 "metadata": {
  "kernelspec": {
   "display_name": "Python 3 (ipykernel)",
   "language": "python",
   "name": "python3"
  },
  "language_info": {
   "codemirror_mode": {
    "name": "ipython",
    "version": 3
   },
   "file_extension": ".py",
   "mimetype": "text/x-python",
   "name": "python",
   "nbconvert_exporter": "python",
   "pygments_lexer": "ipython3",
   "version": "3.9.12"
  }
 },
 "nbformat": 4,
 "nbformat_minor": 5
}
